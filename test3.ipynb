{
 "cells": [
  {
   "cell_type": "code",
   "execution_count": 9,
   "metadata": {},
   "outputs": [],
   "source": [
    "import soundfile as sf\n",
    "import numpy as np\n",
    "\n",
    "import tensorflow as tf\n",
    "\n",
    "from tensorflow_tts.inference import AutoProcessor\n",
    "from tensorflow_tts.inference import TFAutoModel\n",
    "\n",
    "processor = AutoProcessor.from_pretrained(\"tensorspeech/tts-tacotron2-synpaflex-fr\")\n",
    "tacotron2 = TFAutoModel.from_pretrained(\"tensorspeech/tts-tacotron2-synpaflex-fr\")\n",
    "mb_melgan = TFAutoModel.from_pretrained(\"tensorspeech/tts-mb_melgan-synpaflex-fr\")\n",
    "\n",
    "text = \"Test.\"\n",
    "\n",
    "input_ids = processor.text_to_sequence(text)\n",
    "\n",
    "# tacotron2 inference (text-to-mel)\n",
    "decoder_output, mel_outputs, stop_token_prediction, alignment_history = tacotron2.inference(\n",
    "    input_ids=tf.expand_dims(tf.convert_to_tensor(input_ids, dtype=tf.int32), 0),\n",
    "    input_lengths=tf.convert_to_tensor([len(input_ids)], tf.int32),\n",
    "    speaker_ids=tf.convert_to_tensor([0], dtype=tf.int32),\n",
    ")\n",
    "\n",
    "# melgan inference (mel-to-wav)\n",
    "audio = mb_melgan.inference(mel_outputs)[0, :, 0]\n",
    "\n",
    "# save to file\n",
    "sf.write('./testdu1erseptembre.wav', audio, 22050, \"PCM_16\")"
   ]
  },
  {
   "cell_type": "code",
   "execution_count": null,
   "metadata": {},
   "outputs": [],
   "source": []
  }
 ],
 "metadata": {
  "kernelspec": {
   "display_name": "Python 3.7.13 ('test_TTS')",
   "language": "python",
   "name": "python3"
  },
  "language_info": {
   "codemirror_mode": {
    "name": "ipython",
    "version": 3
   },
   "file_extension": ".py",
   "mimetype": "text/x-python",
   "name": "python",
   "nbconvert_exporter": "python",
   "pygments_lexer": "ipython3",
   "version": "3.7.13"
  },
  "orig_nbformat": 4,
  "vscode": {
   "interpreter": {
    "hash": "5b1f07ee1dfd24004de37635e7590c9da5bc9506da59cad1a4dd92bd976707d9"
   }
  }
 },
 "nbformat": 4,
 "nbformat_minor": 2
}
